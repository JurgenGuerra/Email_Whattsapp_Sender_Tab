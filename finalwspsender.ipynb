{
 "cells": [
  {
   "cell_type": "code",
   "execution_count": 4,
   "metadata": {
    "tags": []
   },
   "outputs": [
    {
     "output_type": "stream",
     "name": "stdout",
     "text": "Jurgen 51925810734 ............. Done [1/1]\n"
    }
   ],
   "source": [
    "\n",
    "from selenium import webdriver\n",
    "from selenium.webdriver.support.ui import WebDriverWait\n",
    "from selenium.webdriver.common.keys import Keys\n",
    "from selenium.webdriver.chrome.options import Options\n",
    "from selenium.webdriver.support import expected_conditions as EC\n",
    "from selenium.webdriver.common.by import By\n",
    "import csv    \n",
    "import time\n",
    "\n",
    "#Close all Chromes\n",
    "\n",
    "def senderwsp(Numero, msg, reps):\n",
    "    webl= \"http://web.whatsapp.com/send?phone=\"\n",
    "    Numero = str(Numero)\n",
    "    webl=webl+Numero\n",
    "    options = webdriver.ChromeOptions();\n",
    "    options.add_argument('--user-data-dir=./User_Data')\n",
    "    driver = webdriver.Chrome(chrome_options=options)\n",
    "    driver.get(webl)\n",
    "    element = WebDriverWait(driver,100).until(EC.presence_of_element_located((By.ID, \"side\"))) #WAITS https://selenium-python.readthedocs.io/waits.html\n",
    "    \n",
    "    inp_xpath = '//div[@class=\"_3FRCZ copyable-text selectable-text\"][@contenteditable=\"true\"][@data-tab=\"1\"]'  \n",
    "    #modify it to your own class, lookin in your whatsapp page html code\n",
    "    msg_box = driver.find_element_by_xpath(inp_xpath)\n",
    "    for i in range(reps):\n",
    "        msg_box.send_keys(msg+ Keys.ENTER)\n",
    "\n",
    "    time.sleep(7) # espera en segundos para que el mensaje sea enviado antes de que se cierre la pestaña\n",
    "    driver.close()\n",
    "###\n",
    "path=r'C:\\Users\\jugue\\Documents\\SENDAUTOWSP\\numbers.csv'\n",
    "file = open(path, newline = '')\n",
    "reader=csv.reader(file)\n",
    "header = next(reader) #extract the first line as header\n",
    "data = [row for row in reader]\n",
    "a=len(data)\n",
    "done =0\n",
    "\n",
    "for n in range(a):\n",
    "    Name =  data[n][0] #n is the counter\n",
    "    celular = data[n][1]\n",
    "    link = data[n][2]\n",
    "    msge =  \"\"\"Hola!\n",
    "Te escribo desde la organización del Torneo de Otoño 2020. Estos son los links para:\n",
    "CHAT DE JUECES: https://chat.whatsapp.com/ID6baq4QZA7FOoAbG6kEg4\n",
    "CHAT DE ANUNCIOS: https://chat.whatsapp.com/FKL1EAnDErS6rJmfmJyOwU \n",
    "SERVIDOR DE DISCORD: https://discord.gg/P46YNEy\n",
    "Tu link personal de Tabby te llegará luego por correo uwu.\"\"\"\n",
    "\n",
    "    senderwsp(celular, msge ,1)\n",
    "    done = done +1\n",
    "    print(Name + \" \" + celular+ \" ............. Done [\" +str(done)+\"/\"+str(a)+\"]\")"
   ]
  },
  {
   "cell_type": "code",
   "execution_count": null,
   "metadata": {},
   "outputs": [],
   "source": []
  }
 ],
 "metadata": {
  "language_info": {
   "codemirror_mode": {
    "name": "ipython",
    "version": 3
   },
   "file_extension": ".py",
   "mimetype": "text/x-python",
   "name": "python",
   "nbconvert_exporter": "python",
   "pygments_lexer": "ipython3",
   "version": 3
  },
  "orig_nbformat": 2,
  "kernelspec": {
   "name": "python_defaultSpec_1593715522221",
   "display_name": "Python 3.8.3 32-bit"
  }
 },
 "nbformat": 4,
 "nbformat_minor": 2
}